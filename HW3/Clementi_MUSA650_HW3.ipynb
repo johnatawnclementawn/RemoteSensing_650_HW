{
 "cells": [
  {
   "cell_type": "markdown",
   "id": "4c3644db",
   "metadata": {},
   "source": [
    "### Scikit Learn GridSearchCV   \n",
    "\n",
    "Johnathan Clementi   \n",
    "25 March, 2022   \n",
    "University of Pennsylvania, Master of Urban Spatial Analytics   \n",
    "Remote Sensing - MUSA 650 - Spring 2022   \n"
   ]
  },
  {
   "cell_type": "markdown",
   "id": "b88bf57f",
   "metadata": {},
   "source": [
    "Many machine learning models have hyperparameters that can be adjusted in order to improve the performance of the model. The process of choosing the optimal hyperparameters involves training multiple models, each with a different hyperparameter (or combination of hyperparameters) and then comparing the accuracy of those models. One could build each model with the hyperparameter combinations, but this would be quite time consuming and prone to error. Enter GridSearchCV. GridSearchCV is a function from the model_selection package of the Scikit-Learn Python library which iterates through each combination of hyperparameters, trains a model using those parameters, and then selects the best hyperparameter combination. \n",
    "\n"
   ]
  },
  {
   "cell_type": "code",
   "execution_count": 1,
   "id": "c3ae6a4a",
   "metadata": {},
   "outputs": [],
   "source": [
    "import math\n",
    "import pandas as pd\n",
    "import numpy as np"
   ]
  },
  {
   "cell_type": "code",
   "execution_count": null,
   "id": "aa4347c9",
   "metadata": {},
   "outputs": [],
   "source": []
  }
 ],
 "metadata": {
  "kernelspec": {
   "display_name": "Python 3 (ipykernel)",
   "language": "python",
   "name": "python3"
  },
  "language_info": {
   "codemirror_mode": {
    "name": "ipython",
    "version": 3
   },
   "file_extension": ".py",
   "mimetype": "text/x-python",
   "name": "python",
   "nbconvert_exporter": "python",
   "pygments_lexer": "ipython3",
   "version": "3.9.10"
  }
 },
 "nbformat": 4,
 "nbformat_minor": 5
}
