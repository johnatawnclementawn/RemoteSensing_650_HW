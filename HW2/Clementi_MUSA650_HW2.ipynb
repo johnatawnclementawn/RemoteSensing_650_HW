{
 "cells": [
  {
   "cell_type": "markdown",
   "metadata": {},
   "source": [
    " ## HW2 - Satellite image classification \n",
    "\n",
    "Johnathan Clementi    \n",
    "MUSA - 650 Remote Sensing    \n",
    "3/16/2022   \n",
    "\n",
    "\n",
    "Include your code in the relevant cells below. Subparts labeled as questions (Q1.1, Q1.2, etc.) should have their answers filled in place or plots placed prominently, as appropriate.\n",
    "\n",
    "Please make sure to remove irrelevant code or outputs, and to include descriptive comments with all of your code."
   ]
  },
  {
   "cell_type": "code",
   "execution_count": 1,
   "metadata": {},
   "outputs": [],
   "source": [
    "import pandas as pd\n",
    "import numpy as np\n",
    "from math import *\n",
    "import matplotlib.pyplot as plt\n",
    "import seaborn as sns\n",
    "\n",
    "from sklearn.linear_model import LinearRegression"
   ]
  },
  {
   "cell_type": "markdown",
   "metadata": {},
   "source": [
    "#### Import data\n",
    "This dataset comes from https://www.kaggle.com/rhammell/planesnet"
   ]
  },
  {
   "cell_type": "code",
   "execution_count": 2,
   "metadata": {},
   "outputs": [
    {
     "name": "stdout",
     "output_type": "stream",
     "text": [
      "['planesnet', 'planesnet.json']\n"
     ]
    }
   ],
   "source": [
    "import os\n",
    "path = os.getcwd()\n",
    "print(os.listdir(\"{}\\data\".format(path)))\n",
    "df = pd.read_json('{}\\data\\planesnet.json'.format(path))\n"
   ]
  },
  {
   "cell_type": "code",
   "execution_count": 3,
   "metadata": {},
   "outputs": [
    {
     "name": "stdout",
     "output_type": "stream",
     "text": [
      "0    24000\n",
      "1     8000\n",
      "Name: labels, dtype: int64\n"
     ]
    }
   ],
   "source": [
    "df.iloc[:,[0,1]]\n",
    "lbls = df.iloc[:,1]\n",
    "count = df['labels'].value_counts()\n",
    "print(count)\n",
    "#lbls.unique()"
   ]
  },
  {
   "cell_type": "markdown",
   "metadata": {},
   "source": [
    "### S1:\n",
    "\n",
    "- Load the Planes in Satellite Imagery dataset: https://www.kaggle.com/rhammell/planesnet.\n",
    "\n",
    "\n",
    "Q1.1: Visualize a few of the images for different labels.\n",
    "\n",
    "Q1.2: What is the total number of images in this dataset:   32,000\n",
    "\n",
    "Q1.3: What is the number of labels in this dataset:   \n",
    "\n",
    "Q1.4: What is the dimensionality of each image in this dataset:   ___"
   ]
  },
  {
   "cell_type": "code",
   "execution_count": null,
   "metadata": {},
   "outputs": [],
   "source": []
  },
  {
   "cell_type": "markdown",
   "metadata": {},
   "source": [
    "### S2:\n",
    "\n",
    "- Create data matrices X and y as follows:\n",
    "  - Extract the color channels from each image and flatten them to a feature matrix X (*Hint: use the included JSON file to do this easily*).\n",
    "  - Create the labels y (with binary labels 0 and 1) for each image.\n",
    "- Using X and y, create a split dataset with 70% training and 30% testing data with similar distributions for the two classes.\n",
    "\n",
    "Q2.1: What is the size of X (before splitting):   ___\n",
    "\n",
    "Q2.2: What is the size of y (before splitting):   ___"
   ]
  },
  {
   "cell_type": "code",
   "execution_count": null,
   "metadata": {},
   "outputs": [],
   "source": []
  },
  {
   "cell_type": "markdown",
   "metadata": {},
   "source": [
    "### S3:\n",
    "\n",
    "- Train a SVM classifier using the Sigmoid kernel (with default values for other parameters) on the training data and use it to predict labels of the testing data.\n",
    "\n",
    "Q3.1: What is the training accuracy: ___\n",
    "\n",
    "Q3.2: What is the testing accuracy: ___\n",
    "\n",
    "Q3.3: Show the confusion matrix for the classification of testing samples.\n",
    "\n",
    "Q3.4: What is the AUC (area under the curve) for the classification of testing samples : ___\n"
   ]
  },
  {
   "cell_type": "code",
   "execution_count": null,
   "metadata": {},
   "outputs": [],
   "source": []
  },
  {
   "cell_type": "markdown",
   "metadata": {},
   "source": [
    "### S4:\n",
    "- Train a new SVM classifier using the RBF kernel (leaving other parameters as their default values), and use it to predict labels of the testing data.\n",
    "\n",
    "Q4.1: What is the training accuracy: ___\n",
    "\n",
    "Q4.2: What is the testing accuracy: ___\n",
    "\n",
    "Q3.3: Show the confusion matrix: ___\n",
    "\n",
    "Q3.4: What is the AUC (area under the curve) for the classification: ____ \n",
    "\n",
    "Q4.5: Using the metrics of accuracy and AUC, which of your models is better? Is there anything else to consider?"
   ]
  },
  {
   "cell_type": "code",
   "execution_count": null,
   "metadata": {},
   "outputs": [],
   "source": []
  },
  {
   "cell_type": "markdown",
   "metadata": {},
   "source": [
    "### S5:\n",
    "- You will now try to find the best value for the regularization parameter $C$ from among the values [0.1, 1, 10].\n",
    "- Train a SVM classifier with Sigmoid kernel with different values for $C$ using leave-10%-out cross-validation within your training data.\n",
    "- Train a SVM classifier with RBF kernel with different values for $C$ using leave-10%-out cross-validation within your training data.\n",
    "- Select the best model parameters (from the 6 models: 2 SVM kernels x 3 parameters) based on highest cross-validated accuracy. Train the selected model on the complete training set and apply on the testing set.\n",
    "\n",
    "Q5.1: What is the best choice of $C$ for the linear kernel: ___\n",
    "\n",
    "Q5.2: What is the best choice of $C$ for the RBF kernel: ___\n",
    "\n",
    "Q5.3: What is the accuracy of best model on testing data: ___\n"
   ]
  },
  {
   "cell_type": "code",
   "execution_count": null,
   "metadata": {},
   "outputs": [],
   "source": []
  },
  {
   "cell_type": "markdown",
   "metadata": {},
   "source": [
    "### S6:\n",
    "\n",
    "Unsupervised learning: Clustering\n",
    "\n",
    "- Apply k-Means clustering with k=2 on the complete set using vectorized imaging features\n",
    "\n",
    "Q6.1: What is the distribution of plane vs non-plane images into the two classes? Show it with a 2x2 matrix: ___\n",
    "\n",
    "Q6.2: Does the clustering (without using actual labels in learning) work for detecting the two target classes? Why or why not?\n"
   ]
  },
  {
   "cell_type": "code",
   "execution_count": null,
   "metadata": {},
   "outputs": [],
   "source": []
  },
  {
   "cell_type": "markdown",
   "metadata": {},
   "source": [
    "### S7:\n",
    "\n",
    "Visualization\n",
    "\n",
    "- Show the average of all airplane images\n",
    "\n",
    "- Show the average of all images in your first cluster in S6\n",
    "\n",
    "- Show the average of all images in your second cluster in S6\n",
    "\n",
    "\n",
    "Q7.1: Based on what you see in these average images, what would you suggest to improve your classifier for differentiating these two classes?\n"
   ]
  },
  {
   "cell_type": "code",
   "execution_count": null,
   "metadata": {},
   "outputs": [],
   "source": []
  },
  {
   "cell_type": "markdown",
   "metadata": {},
   "source": [
    "### S8 (Bonus):\n",
    "\n",
    "Extract only 5 features from each image [1]. Train a linear classifier with default parameters on the training data using only these 5 features and apply it on the test data.\n",
    "\n",
    "[1] Feature extraction should be done without using the class labels\n",
    "\n",
    "Q8.1: Describe how you extracted your 5 features. How did you choose them?\n",
    "\n",
    "Q8.2: What is the accuracy of your classifier on the test data: ___\n",
    "\n"
   ]
  },
  {
   "cell_type": "code",
   "execution_count": null,
   "metadata": {},
   "outputs": [],
   "source": []
  }
 ],
 "metadata": {
  "kernelspec": {
   "display_name": "Python 3 (ipykernel)",
   "language": "python",
   "name": "python3"
  },
  "language_info": {
   "codemirror_mode": {
    "name": "ipython",
    "version": 3
   },
   "file_extension": ".py",
   "mimetype": "text/x-python",
   "name": "python",
   "nbconvert_exporter": "python",
   "pygments_lexer": "ipython3",
   "version": "3.9.10"
  }
 },
 "nbformat": 4,
 "nbformat_minor": 2
}
